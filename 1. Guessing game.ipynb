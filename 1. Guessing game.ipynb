{
 "cells": [
  {
   "cell_type": "code",
   "execution_count": null,
   "id": "c0b28452",
   "metadata": {},
   "outputs": [],
   "source": [
    "## Quess Game \n",
    "# Guess the number, to the correct answers then print oyut their total score\n",
    "\n",
    "# lets first welcome the user to the game\n",
    "print(\"Welcome to a my mini games, Lets see how good you are, lets play Quiz 1: Guessing game\")"
   ]
  },
  {
   "cell_type": "code",
   "execution_count": 2,
   "id": "d62c2945",
   "metadata": {},
   "outputs": [
    {
     "name": "stdout",
     "output_type": "stream",
     "text": [
      "Do you want to Play? yes\n",
      "Okay! Lets play :)\n"
     ]
    }
   ],
   "source": [
    "# lets add in input(), to prompt the user whetether they wah to play or not\n",
    "user_prompt = input(\"Do you want to Play? \")\n",
    "# what the user types in becomes the the input saved on the user_prompt\n",
    "# we havent yet stated waht the reply means yet \n",
    "# if they user types \"Yes\" we begin the game, if the type \"no\" we quit the game (we'll use the quit function)\n",
    "if user_prompt != \"yes\" or \"Yes\":\n",
    "    quit()\n",
    "# if they say yes lets celbrate and being game\n",
    "print(\"Okay! Lets play :)\")"
   ]
  },
  {
   "cell_type": "code",
   "execution_count": 13,
   "id": "22848a1c",
   "metadata": {
    "scrolled": false
   },
   "outputs": [
    {
     "name": "stdout",
     "output_type": "stream",
     "text": [
      "what is the nearest sat to planet earth? sun\n",
      "Your brilliant, corect!\n"
     ]
    }
   ],
   "source": [
    "# lets use the input() fuction to get info from the user\n",
    "answer_1 = input(\"what is the nearest sat to planet earth? \")\n",
    "if answer_1 == \"sun\" or \"Sun\":\n",
    "    print(\"Your brilliant, corect!\") # if the user gets it wong lets go with else statement\n",
    "else:\n",
    "    print(\"Oh No, thats wrong. Stop looking dow at the phone look up at the sky:) \")"
   ]
  },
  {
   "cell_type": "code",
   "execution_count": 14,
   "id": "b78bfe5d",
   "metadata": {},
   "outputs": [
    {
     "name": "stdout",
     "output_type": "stream",
     "text": [
      "How many colors in a rainbow? 8\n",
      "Oh No, thats wrong.  Look at the Rainbow more and count a  little more :) \n"
     ]
    }
   ],
   "source": [
    "# lets add 4 more questions. \n",
    "# change the statement from answer_1 to answer2 so details are stored. \n",
    "answer_2 = input(\"How many colors in a rainbow? \")\n",
    "if answer_2 == \"7\":\n",
    "    print(\"Your brilliant, corect!\") # if the user gets it wong lets go with else statement\n",
    "else:\n",
    "    print(\"Oh No, thats wrong.  Look at the Rainbow more and count a  little more :) \")"
   ]
  },
  {
   "cell_type": "code",
   "execution_count": 20,
   "id": "f02187ed",
   "metadata": {},
   "outputs": [
    {
     "name": "stdout",
     "output_type": "stream",
     "text": [
      "In what direction does the sunrise? west\n",
      "Oh No, thats wrong.  Maybe your still sleepy in the moring to know you dircetions in the morning :( \n"
     ]
    }
   ],
   "source": [
    "# lets add 1 more questions. \n",
    "# change the statement from answer_2 to answer_3 so details are stored. \n",
    "answer_3 = input(\"In what direction does the sunrise? \")\n",
    "if answer_3 ==\"east\":\n",
    "    print(\"Your brilliant, corect!\") # if the user gets it wong lets go with else statement\n",
    "else:\n",
    "    print(\"Oh No, thats wrong.  Maybe your still sleepy in the moring to know you dircetions in the morning :( \")"
   ]
  },
  {
   "cell_type": "code",
   "execution_count": 21,
   "id": "3767f2f9",
   "metadata": {},
   "outputs": [
    {
     "name": "stdout",
     "output_type": "stream",
     "text": [
      "How many weeks are in one year? 52\n",
      "Your brilliant, corect!\n"
     ]
    }
   ],
   "source": [
    "# lets add 1 more questions. \n",
    "# change the statement from answer_3 to answer_4 so details are stored. \n",
    "answer_4 = input(\"How many weeks are in one year? \")\n",
    "if answer_4 == \"52\":\n",
    "    print(\"Your brilliant, corect!\") # if the user gets it wong lets go with else statement\n",
    "else:\n",
    "    print(\"Oh No, thats wrong.  Time to find the calender :( \")"
   ]
  },
  {
   "cell_type": "code",
   "execution_count": 1,
   "id": "96d0e08a",
   "metadata": {},
   "outputs": [
    {
     "name": "stdout",
     "output_type": "stream",
     "text": [
      "Welcome to a my mini games, Lets see how good you are, lets play Quiz 1: Guessing game\n",
      "Do you want to Play? YeS\n",
      "Okay! Lets play :)\n",
      "what is the nearest star to planet earth? SuN\n",
      "Your brilliant, corect!\n",
      "How many colors in a rainbow? 8\n",
      "Oh No, thats wrong.  Look at the Rainbow more and count a  little more :) \n",
      "In what direction does the sunrise? EaST\n",
      "Your brilliant, corect!\n",
      "How many weeks are in one year? 56\n",
      "Oh No, thats wrong.  Time to find the calender :( \n"
     ]
    }
   ],
   "source": [
    "# entire code\n",
    "# # lets remove the or statements by using the lower() to simplify, not required on numerical answers\n",
    "# helps prevent hardcoding\n",
    "print(\"Welcome to a my mini games, Lets see how good you are, lets play Quiz 1: Guessing game\")\n",
    "user_prompt = input(\"Do you want to Play? \")\n",
    "if user_prompt.lower != \"yes\" :\n",
    "    quit()\n",
    "print(\"Okay! Lets play :)\")\n",
    "answer_1 = input(\"what is the nearest star to planet earth? \")\n",
    "if answer_1.lower() == \"sun\" :\n",
    "    print(\"Your brilliant, corect!\") # if the user gets it wong lets go with else statement\n",
    "else:\n",
    "    print(\"Oh No, thats wrong. Stop looking at the phone, look up at the sun:) \")\n",
    "answer_2 = input(\"How many colors in a rainbow? \")\n",
    "if answer_2 == \"7\":\n",
    "    print(\"Your brilliant, corect!\") # if the user gets it wong lets go with else statement\n",
    "else:\n",
    "    print(\"Oh No, thats wrong.  Look at the Rainbow more and count a  little more :) \")\n",
    "answer_3 = input(\"In what direction does the sunrise? \")\n",
    "if answer_3.lower() ==\"east\" :\n",
    "    print(\"Your brilliant, corect!\") # if the user gets it wong lets go with else statement\n",
    "else:\n",
    "    print(\"Oh No, thats wrong. Maybe your still sleepy in the morning to know you dircetions in the morning :( \")\n",
    "answer_4 = input(\"How many weeks are in one year? \")\n",
    "if answer_4 == \"52\":\n",
    "    print(\"Your brilliant, corect!\") # if the user gets it wong lets go with else statement\n",
    "else:\n",
    "    print(\"Oh No, thats wrong.  Time to find the calender :( \")"
   ]
  },
  {
   "cell_type": "code",
   "execution_count": 1,
   "id": "2dd4c737",
   "metadata": {},
   "outputs": [
    {
     "name": "stdout",
     "output_type": "stream",
     "text": [
      "Welcome to a my mini games, Lets see how good you are, lets play Quiz 1: Guessing game\n",
      "Do you want to Play? YeS\n",
      "Okay! Lets play :)\n",
      "what is the nearest star to planet earth? Sun\n",
      "Your brilliant, corect!\n",
      "How many colors in a rainbow? 8\n",
      "Oh No, thats wrong.  Look at the Rainbow more and count a  little more :) \n",
      "In what direction does the sunrise? eaST\n",
      "Your brilliant, corect!\n",
      "How many weeks are in one year? 54\n",
      "Oh No, thats wrong.  Time to find the calender :( \n",
      "You got 2 questions correct!\n"
     ]
    }
   ],
   "source": [
    "\n",
    "# lets add a score varaiable \n",
    "score = 0\n",
    "print(\"Welcome to a my mini games, Lets see how good you are, lets play Quiz 1: Guessing game\")\n",
    "user_prompt = input(\"Do you want to Play? \")\n",
    "if user_prompt.lower != \"yes\" :\n",
    "    quit()\n",
    "print(\"Okay! Lets play :)\")\n",
    "answer_1 = input(\"what is the nearest star to planet earth? \")\n",
    "if answer_1.lower() == \"sun\" :\n",
    "    print(\"Your brilliant, corect!\") # if the user gets it wong lets go with else statement\n",
    "    score +=1\n",
    "else:\n",
    "    print(\"Oh No, thats wrong. Stop looking at the phone, look up at the sun:) \")\n",
    "answer_2 = input(\"How many colors in a rainbow? \")\n",
    "if answer_2 == \"7\":\n",
    "    print(\"Your brilliant, corect!\") # if the user gets it wong lets go with else statement\n",
    "    score +=1\n",
    "else:\n",
    "    print(\"Oh No, thats wrong.  Look at the Rainbow more and count a  little more :) \")\n",
    "answer_3 = input(\"In what direction does the sunrise? \")\n",
    "if answer_3.lower() ==\"east\" :\n",
    "    print(\"Your brilliant, corect!\") # if the user gets it wong lets go with else statement\n",
    "    score +=1\n",
    "else:\n",
    "    print(\"Oh No, thats wrong. Maybe your still sleepy in the morning to know you dircetions in the morning :( \")\n",
    "answer_4 = input(\"How many weeks are in one year? \")\n",
    "if answer_4 == \"52\":\n",
    "    print(\"Your brilliant, corect!\") # if the user gets it wong lets go with else statement\n",
    "    score +=1\n",
    "else:\n",
    "    print(\"Oh No, thats wrong.  Time to find the calender :( \")\n",
    "    \n",
    "print(\"You got \" + str(score) + \" questions correct!\")\n",
    "# convert score to string so can be added (concatenated) to other string "
   ]
  },
  {
   "cell_type": "code",
   "execution_count": null,
   "id": "8957a94b",
   "metadata": {},
   "outputs": [],
   "source": []
  }
 ],
 "metadata": {
  "kernelspec": {
   "display_name": "Python 3",
   "language": "python",
   "name": "python3"
  },
  "language_info": {
   "codemirror_mode": {
    "name": "ipython",
    "version": 3
   },
   "file_extension": ".py",
   "mimetype": "text/x-python",
   "name": "python",
   "nbconvert_exporter": "python",
   "pygments_lexer": "ipython3",
   "version": "3.8.8"
  }
 },
 "nbformat": 4,
 "nbformat_minor": 5
}
